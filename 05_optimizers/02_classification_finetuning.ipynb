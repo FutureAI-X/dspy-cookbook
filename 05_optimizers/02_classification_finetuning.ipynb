{
 "cells": [
  {
   "cell_type": "markdown",
   "id": "71577ddb-0f56-4830-9452-6161c0c92161",
   "metadata": {},
   "source": [
    "# Classification Fine-tuning 分类微调\n",
    "本案例使用一个分类任务来演示如何在 DSPy 中微调 LLM 权重\n",
    "\n",
    "## 一 本地模型部署\n",
    "目前（2025-01-24），DSPy 仅支持在本地 GPU 部署的模型进行微调，后续计划支持 Ollama 部署模型微调。\n",
    "\n",
    "DSPy 中 LM 不同部署方式参考：\n",
    "https://dspy.ai/learn/programming/language_models/#__tabbed_1_4\n",
    "\n",
    "本地 GPU 部署特指上述链接中：Local LMs on a GPU serve 部分\n",
    "\n",
    "## 一 安装依赖\n",
    "### 1.1 DSPy 相关依赖\n",
    "本案例依赖 DSPy 2.6.0(pre-release) 版本，使用如下命令安装最新版本 DSPy\n",
    "```\n",
    "pip install -U --pre dspy\n",
    "```\n",
    "### 1.2 Torch 和 HuggingFace 相关依赖\n",
    "```\n",
    "pip install -U torch transformers accelerate trl peft\n",
    "```"
   ]
  },
  {
   "cell_type": "code",
   "execution_count": null,
   "id": "3618aae4-fb6c-47b0-a97e-62b9130c3473",
   "metadata": {},
   "outputs": [],
   "source": []
  }
 ],
 "metadata": {
  "kernelspec": {
   "display_name": "Python 3 (ipykernel)",
   "language": "python",
   "name": "python3"
  },
  "language_info": {
   "codemirror_mode": {
    "name": "ipython",
    "version": 3
   },
   "file_extension": ".py",
   "mimetype": "text/x-python",
   "name": "python",
   "nbconvert_exporter": "python",
   "pygments_lexer": "ipython3",
   "version": "3.11.9"
  }
 },
 "nbformat": 4,
 "nbformat_minor": 5
}
