{
 "cells": [
  {
   "cell_type": "markdown",
   "id": "d51be2df-db61-49b0-abbb-3fe82c472930",
   "metadata": {},
   "source": [
    "# 使用 DSPy 开发分类功能案例"
   ]
  },
  {
   "cell_type": "markdown",
   "id": "47db156a-98f0-49f2-98ea-cdd902da7582",
   "metadata": {},
   "source": [
    "## 一 为 DSPy 指定模型"
   ]
  },
  {
   "cell_type": "code",
   "execution_count": 2,
   "id": "d28e2ef7-ce03-4325-a40b-cd448174574e",
   "metadata": {},
   "outputs": [],
   "source": [
    "import dspy\n",
    "\n",
    "lm = dspy.LM('ollama_chat/qwen2.5:0.5b', api_base='http://localhost:11434', api_key='', cache=False)\n",
    "dspy.configure(lm=lm)"
   ]
  },
  {
   "cell_type": "markdown",
   "id": "31983423-6e78-48d6-b9c7-bf3283ff5356",
   "metadata": {},
   "source": [
    "## 二 分类测试"
   ]
  },
  {
   "cell_type": "code",
   "execution_count": 3,
   "id": "ac759017-5278-437c-9fb3-4b25b1b0b67e",
   "metadata": {},
   "outputs": [
    {
     "data": {
      "text/plain": [
       "Prediction(\n",
       "    category='肉类',\n",
       "    confidence=0.85\n",
       ")"
      ]
     },
     "execution_count": 3,
     "metadata": {},
     "output_type": "execute_result"
    }
   ],
   "source": [
    "from typing import Literal\n",
    "\n",
    "class Category(dspy.Signature):\n",
    "    \"\"\"Classify food\"\"\"\n",
    "\n",
    "    food: str = dspy.InputField()\n",
    "    category: Literal[\"未知\",\"蔬菜\",\"水果\",\"肉类\"] = dspy.OutputField()\n",
    "    confidence: float = dspy.OutputField()\n",
    "\n",
    "classify = dspy.Predict(Category)\n",
    "\n",
    "result = classify(food=\"猪肉\")\n",
    "result"
   ]
  },
  {
   "cell_type": "code",
   "execution_count": 4,
   "id": "be6386fc-eb45-40c8-a091-6b1a193fa83c",
   "metadata": {},
   "outputs": [
    {
     "name": "stdout",
     "output_type": "stream",
     "text": [
      "\n",
      "\n",
      "\n",
      "\n",
      "\u001b[34m[2025-02-05T16:18:59.474342]\u001b[0m\n",
      "\n",
      "\u001b[31mSystem message:\u001b[0m\n",
      "\n",
      "Your input fields are:\n",
      "1. `food` (str)\n",
      "\n",
      "Your output fields are:\n",
      "1. `category` (Literal[未知, 蔬菜, 水果, 肉类])\n",
      "2. `confidence` (float)\n",
      "\n",
      "All interactions will be structured in the following way, with the appropriate values filled in.\n",
      "\n",
      "[[ ## food ## ]]\n",
      "{food}\n",
      "\n",
      "[[ ## category ## ]]\n",
      "{category}        # note: the value you produce must be one of: 未知; 蔬菜; 水果; 肉类\n",
      "\n",
      "[[ ## confidence ## ]]\n",
      "{confidence}        # note: the value you produce must be a single float value\n",
      "\n",
      "[[ ## completed ## ]]\n",
      "\n",
      "In adhering to this structure, your objective is: \n",
      "        Classify food\n",
      "\n",
      "\n",
      "\u001b[31mUser message:\u001b[0m\n",
      "\n",
      "[[ ## food ## ]]\n",
      "猪肉\n",
      "\n",
      "Respond with the corresponding output fields, starting with the field `[[ ## category ## ]]` (must be formatted as a valid Python Literal[未知, 蔬菜, 水果, 肉类]), then `[[ ## confidence ## ]]` (must be formatted as a valid Python float), and then ending with the marker for `[[ ## completed ## ]]`.\n",
      "\n",
      "\n",
      "\u001b[31mResponse:\u001b[0m\n",
      "\n",
      "\u001b[32m[[ ## category ## ]]\n",
      "肉类\n",
      "\n",
      "[[ ## confidence ## ]]\n",
      "0.85\n",
      "\n",
      "[[ ## completed ## ]]\u001b[0m\n",
      "\n",
      "\n",
      "\n",
      "\n",
      "\n"
     ]
    }
   ],
   "source": [
    "# 打印对话记录\n",
    "dspy.inspect_history()"
   ]
  },
  {
   "cell_type": "markdown",
   "id": "45afafd2-aa73-453e-a554-83cd3c7c36b8",
   "metadata": {},
   "source": [
    "## 三 优化 Prompts"
   ]
  },
  {
   "cell_type": "code",
   "execution_count": 5,
   "id": "d288ed20-6b19-4e3c-9668-d77d8d82c82c",
   "metadata": {},
   "outputs": [],
   "source": [
    "import csv\n",
    "from dspy.evaluate import Evaluate\n",
    "from dspy.teleprompt import *"
   ]
  },
  {
   "cell_type": "code",
   "execution_count": 6,
   "id": "2c752fb3-1f42-413a-8151-31c1ade35bd5",
   "metadata": {},
   "outputs": [],
   "source": [
    "# 加载训练集\n",
    "trainset = []\n",
    "with open('food_category.csv', 'r', encoding='utf-8') as file:\n",
    "    reader = csv.DictReader(file)\n",
    "    for row in reader:\n",
    "        example = dspy.Example(food=row['food'], category=row['category']).with_inputs(\"food\")\n",
    "        trainset.append(example)"
   ]
  },
  {
   "cell_type": "code",
   "execution_count": 7,
   "id": "bdec808d-7b67-4393-8214-6c75e5cfa885",
   "metadata": {},
   "outputs": [],
   "source": [
    "# 定义评估指标\n",
    "def validate_category(example, prediction, trace=None):\n",
    "    return prediction.category == example.category"
   ]
  },
  {
   "cell_type": "code",
   "execution_count": 8,
   "id": "62985b8f-56e1-46cd-9648-66858a023026",
   "metadata": {},
   "outputs": [
    {
     "name": "stdout",
     "output_type": "stream",
     "text": [
      "Average Metric: 31.00 / 87 (35.6%): 100%|████████████████████████████████████████████████████████████████████████████████████████████████████████████████████████████████| 87/87 [04:39<00:00,  3.22s/it]"
     ]
    },
    {
     "name": "stderr",
     "output_type": "stream",
     "text": [
      "2025/02/05 16:25:41 INFO dspy.evaluate.evaluate: Average Metric: 31 / 87 (35.6%)\n"
     ]
    },
    {
     "name": "stdout",
     "output_type": "stream",
     "text": [
      "\n"
     ]
    },
    {
     "data": {
      "text/html": [
       "<div>\n",
       "<style scoped>\n",
       "    .dataframe tbody tr th:only-of-type {\n",
       "        vertical-align: middle;\n",
       "    }\n",
       "\n",
       "    .dataframe tbody tr th {\n",
       "        vertical-align: top;\n",
       "    }\n",
       "\n",
       "    .dataframe thead th {\n",
       "        text-align: right;\n",
       "    }\n",
       "</style>\n",
       "<table border=\"1\" class=\"dataframe\">\n",
       "  <thead>\n",
       "    <tr style=\"text-align: right;\">\n",
       "      <th></th>\n",
       "      <th>food</th>\n",
       "      <th>example_category</th>\n",
       "      <th>pred_category</th>\n",
       "      <th>confidence</th>\n",
       "      <th>validate_category</th>\n",
       "    </tr>\n",
       "  </thead>\n",
       "  <tbody>\n",
       "    <tr>\n",
       "      <th>0</th>\n",
       "      <td>苹果</td>\n",
       "      <td>水果</td>\n",
       "      <td>蔬菜</td>\n",
       "      <td>0.85</td>\n",
       "      <td></td>\n",
       "    </tr>\n",
       "    <tr>\n",
       "      <th>1</th>\n",
       "      <td>香蕉</td>\n",
       "      <td>水果</td>\n",
       "      <td>蔬菜</td>\n",
       "      <td>0.85</td>\n",
       "      <td></td>\n",
       "    </tr>\n",
       "    <tr>\n",
       "      <th>2</th>\n",
       "      <td>橙子</td>\n",
       "      <td>水果</td>\n",
       "      <td>蔬菜</td>\n",
       "      <td>0.85</td>\n",
       "      <td></td>\n",
       "    </tr>\n",
       "    <tr>\n",
       "      <th>3</th>\n",
       "      <td>草莓</td>\n",
       "      <td>水果</td>\n",
       "      <td>蔬菜</td>\n",
       "      <td>0.85</td>\n",
       "      <td></td>\n",
       "    </tr>\n",
       "    <tr>\n",
       "      <th>4</th>\n",
       "      <td>葡萄</td>\n",
       "      <td>水果</td>\n",
       "      <td>蔬菜</td>\n",
       "      <td>0.85</td>\n",
       "      <td></td>\n",
       "    </tr>\n",
       "  </tbody>\n",
       "</table>\n",
       "</div>"
      ],
      "text/plain": [
       "  food example_category pred_category  confidence validate_category\n",
       "0   苹果               水果            蔬菜        0.85                  \n",
       "1   香蕉               水果            蔬菜        0.85                  \n",
       "2   橙子               水果            蔬菜        0.85                  \n",
       "3   草莓               水果            蔬菜        0.85                  \n",
       "4   葡萄               水果            蔬菜        0.85                  "
      ]
     },
     "metadata": {},
     "output_type": "display_data"
    },
    {
     "data": {
      "text/html": [
       "\n",
       "                <div style='\n",
       "                    text-align: center;\n",
       "                    font-size: 16px;\n",
       "                    font-weight: bold;\n",
       "                    color: #555;\n",
       "                    margin: 10px 0;'>\n",
       "                    ... 82 more rows not displayed ...\n",
       "                </div>\n",
       "                "
      ],
      "text/plain": [
       "<IPython.core.display.HTML object>"
      ]
     },
     "metadata": {},
     "output_type": "display_data"
    },
    {
     "data": {
      "text/plain": [
       "35.63"
      ]
     },
     "execution_count": 8,
     "metadata": {},
     "output_type": "execute_result"
    }
   ],
   "source": [
    "# Evaluate our existing function\n",
    "evaluator = Evaluate(devset=trainset, num_threads=1, display_progress=True, display_table=5)\n",
    "evaluator(classify, metric=validate_category)"
   ]
  },
  {
   "cell_type": "code",
   "execution_count": 59,
   "id": "e5a80905-1e5e-4ec3-826d-593f484b961e",
   "metadata": {},
   "outputs": [
    {
     "name": "stderr",
     "output_type": "stream",
     "text": [
      "2025/01/23 17:54:15 INFO dspy.teleprompt.mipro_optimizer_v2: \n",
      "RUNNING WITH THE FOLLOWING LIGHT AUTO RUN SETTINGS:\n",
      "num_trials: 7\n",
      "minibatch: True\n",
      "num_candidates: 7\n",
      "valset size: 69\n",
      "\n"
     ]
    },
    {
     "name": "stdin",
     "output_type": "stream",
     "text": [
      "\u001b[93m\u001b[1mProjected Language Model (LM) Calls\u001b[0m\n",
      "\n",
      "Based on the parameters you have set, the maximum number of LM calls is projected as follows:\n",
      "\n",
      "\u001b[93m- Prompt Generation: \u001b[94m\u001b[1m10\u001b[0m\u001b[93m data summarizer calls + \u001b[94m\u001b[1m7\u001b[0m\u001b[93m * \u001b[94m\u001b[1m1\u001b[0m\u001b[93m lm calls in program + (\u001b[94m\u001b[1m2\u001b[0m\u001b[93m) lm calls in program-aware proposer = \u001b[94m\u001b[1m19\u001b[0m\u001b[93m prompt model calls\u001b[0m\n",
      "\u001b[93m- Program Evaluation: \u001b[94m\u001b[1m25\u001b[0m\u001b[93m examples in minibatch * \u001b[94m\u001b[1m7\u001b[0m\u001b[93m batches + \u001b[94m\u001b[1m69\u001b[0m\u001b[93m examples in val set * \u001b[94m\u001b[1m1\u001b[0m\u001b[93m full evals = \u001b[94m\u001b[1m244\u001b[0m\u001b[93m LM Program calls\u001b[0m\n",
      "\n",
      "\u001b[93m\u001b[1mEstimated Cost Calculation:\u001b[0m\n",
      "\n",
      "\u001b[93mTotal Cost = (Number of calls to task model * (Avg Input Token Length per Call * Task Model Price per Input Token + Avg Output Token Length per Call * Task Model Price per Output Token) \n",
      "            + (Number of program calls * (Avg Input Token Length per Call * Task Prompt Price per Input Token + Avg Output Token Length per Call * Prompt Model Price per Output Token).\u001b[0m\n",
      "\n",
      "For a preliminary estimate of potential costs, we recommend you perform your own calculations based on the task\n",
      "and prompt models you intend to use. If the projected costs exceed your budget or expectations, you may consider:\n",
      "\n",
      "\u001b[93m- Reducing the number of trials (`num_trials`), the size of the valset, or the number of LM calls in your program.\u001b[0m\n",
      "\u001b[93m- Using a cheaper task model to optimize the prompt.\u001b[0m\n",
      "\u001b[93m- Setting `minibatch=True` if you haven't already.\u001b[0m\n",
      "\n",
      "To proceed with the execution of this program, please confirm by typing \u001b[94m'y'\u001b[0m for yes or \u001b[94m'n'\u001b[0m for no.\n",
      "\n",
      "If you would like to bypass this confirmation step in future executions, set the \u001b[93m`requires_permission_to_run`\u001b[0m flag to \u001b[93m`False`\u001b[0m when calling compile.\n",
      "\n",
      "\u001b[93mAwaiting your input...\u001b[0m\n",
      "\n",
      "Do you wish to continue? (y/n):  y\n"
     ]
    },
    {
     "name": "stderr",
     "output_type": "stream",
     "text": [
      "2025/01/23 17:54:18 INFO dspy.teleprompt.mipro_optimizer_v2: \n",
      "==> STEP 1: BOOTSTRAP FEWSHOT EXAMPLES <==\n",
      "2025/01/23 17:54:18 INFO dspy.teleprompt.mipro_optimizer_v2: These will be used for informing instruction proposal.\n",
      "\n",
      "2025/01/23 17:54:18 INFO dspy.teleprompt.mipro_optimizer_v2: Bootstrapping N=7 sets of demonstrations...\n"
     ]
    },
    {
     "name": "stdout",
     "output_type": "stream",
     "text": [
      "Bootstrapping set 1/7\n",
      "Bootstrapping set 2/7\n"
     ]
    },
    {
     "name": "stderr",
     "output_type": "stream",
     "text": [
      "100%|███████████████████████████████████████████████████████████████████████████████████████████████████████████████████████████████████████████████████████████████████| 18/18 [00:00<00:00, 346.34it/s]\n"
     ]
    },
    {
     "name": "stdout",
     "output_type": "stream",
     "text": [
      "Bootstrapped 0 full traces after 17 examples for up to 1 rounds, amounting to 18 attempts.\n",
      "Bootstrapping set 3/7\n"
     ]
    },
    {
     "name": "stderr",
     "output_type": "stream",
     "text": [
      "100%|███████████████████████████████████████████████████████████████████████████████████████████████████████████████████████████████████████████████████████████████████| 18/18 [00:00<00:00, 439.27it/s]\n"
     ]
    },
    {
     "name": "stdout",
     "output_type": "stream",
     "text": [
      "Bootstrapped 0 full traces after 17 examples for up to 1 rounds, amounting to 18 attempts.\n",
      "Bootstrapping set 4/7\n"
     ]
    },
    {
     "name": "stderr",
     "output_type": "stream",
     "text": [
      "100%|███████████████████████████████████████████████████████████████████████████████████████████████████████████████████████████████████████████████████████████████████| 18/18 [00:00<00:00, 545.76it/s]\n"
     ]
    },
    {
     "name": "stdout",
     "output_type": "stream",
     "text": [
      "Bootstrapped 0 full traces after 17 examples for up to 1 rounds, amounting to 18 attempts.\n",
      "Bootstrapping set 5/7\n"
     ]
    },
    {
     "name": "stderr",
     "output_type": "stream",
     "text": [
      "100%|███████████████████████████████████████████████████████████████████████████████████████████████████████████████████████████████████████████████████████████████████| 18/18 [00:00<00:00, 545.77it/s]\n"
     ]
    },
    {
     "name": "stdout",
     "output_type": "stream",
     "text": [
      "Bootstrapped 0 full traces after 17 examples for up to 1 rounds, amounting to 18 attempts.\n",
      "Bootstrapping set 6/7\n"
     ]
    },
    {
     "name": "stderr",
     "output_type": "stream",
     "text": [
      "100%|███████████████████████████████████████████████████████████████████████████████████████████████████████████████████████████████████████████████████████████████████| 18/18 [00:00<00:00, 473.96it/s]\n"
     ]
    },
    {
     "name": "stdout",
     "output_type": "stream",
     "text": [
      "Bootstrapped 0 full traces after 17 examples for up to 1 rounds, amounting to 18 attempts.\n",
      "Bootstrapping set 7/7\n"
     ]
    },
    {
     "name": "stderr",
     "output_type": "stream",
     "text": [
      "100%|███████████████████████████████████████████████████████████████████████████████████████████████████████████████████████████████████████████████████████████████████| 18/18 [00:00<00:00, 529.74it/s]\n",
      "2025/01/23 17:54:18 INFO dspy.teleprompt.mipro_optimizer_v2: \n",
      "==> STEP 2: PROPOSE INSTRUCTION CANDIDATES <==\n",
      "2025/01/23 17:54:18 INFO dspy.teleprompt.mipro_optimizer_v2: We will use the few-shot examples from the previous step, a generated dataset summary, a summary of the program code, and a randomly selected prompting tip to propose instructions.\n",
      "2025/01/23 17:54:18 INFO dspy.teleprompt.mipro_optimizer_v2: \n",
      "Proposing instructions...\n",
      "\n"
     ]
    },
    {
     "name": "stdout",
     "output_type": "stream",
     "text": [
      "Bootstrapped 0 full traces after 17 examples for up to 1 rounds, amounting to 18 attempts.\n"
     ]
    },
    {
     "name": "stderr",
     "output_type": "stream",
     "text": [
      "2025/01/23 17:54:18 INFO dspy.teleprompt.mipro_optimizer_v2: Proposed Instructions for Predictor 0:\n",
      "\n",
      "2025/01/23 17:54:18 INFO dspy.teleprompt.mipro_optimizer_v2: 0: Classify food\n",
      "\n",
      "2025/01/23 17:54:18 INFO dspy.teleprompt.mipro_optimizer_v2: 1: The pipeline is designed to classify food based on its category and confidence.\n",
      "\n",
      "2025/01/23 17:54:18 INFO dspy.teleprompt.mipro_optimizer_v2: 2: The pipeline is designed to classify food based on its category and confidence.\n",
      "\n",
      "2025/01/23 17:54:18 INFO dspy.teleprompt.mipro_optimizer_v2: 3: The pipeline is designed to classify food based on its category and confidence.\n",
      "\n",
      "2025/01/23 17:54:18 INFO dspy.teleprompt.mipro_optimizer_v2: 4: Predict the category of the input based on its content.\n",
      "\n",
      "2025/01/23 17:54:18 INFO dspy.teleprompt.mipro_optimizer_v2: 5: Predict food, return category and confidence.\n",
      "\n",
      "2025/01/23 17:54:18 INFO dspy.teleprompt.mipro_optimizer_v2: 6: Predict the category of the input based on its content.\n",
      "\n",
      "2025/01/23 17:54:18 INFO dspy.teleprompt.mipro_optimizer_v2: \n",
      "\n",
      "2025/01/23 17:54:18 INFO dspy.teleprompt.mipro_optimizer_v2: Evaluating the default program...\n",
      "\n"
     ]
    },
    {
     "name": "stdout",
     "output_type": "stream",
     "text": [
      "Average Metric: 31.00 / 69 (44.9%): 100%|███████████████████████████████████████████████████████████████████████████████████████████████████████████████████████████████| 69/69 [00:00<00:00, 595.16it/s]"
     ]
    },
    {
     "name": "stderr",
     "output_type": "stream",
     "text": [
      "2025/01/23 17:54:18 INFO dspy.evaluate.evaluate: Average Metric: 31 / 69 (44.9%)\n",
      "2025/01/23 17:54:18 INFO dspy.teleprompt.mipro_optimizer_v2: Default program score: 44.93\n",
      "\n",
      "2025/01/23 17:54:18 INFO dspy.teleprompt.mipro_optimizer_v2: ==> STEP 3: FINDING OPTIMAL PROMPT PARAMETERS <==\n",
      "2025/01/23 17:54:18 INFO dspy.teleprompt.mipro_optimizer_v2: We will evaluate the program over a series of trials with different combinations of instructions and few-shot examples to find the optimal combination using Bayesian Optimization.\n",
      "\n",
      "2025/01/23 17:54:18 INFO dspy.teleprompt.mipro_optimizer_v2: == Minibatch Trial 1 / 7 ==\n"
     ]
    },
    {
     "name": "stdout",
     "output_type": "stream",
     "text": [
      "\n",
      "Average Metric: 13.00 / 25 (52.0%): 100%|███████████████████████████████████████████████████████████████████████████████████████████████████████████████████████████████| 25/25 [00:00<00:00, 490.48it/s]"
     ]
    },
    {
     "name": "stderr",
     "output_type": "stream",
     "text": [
      "2025/01/23 17:54:19 INFO dspy.evaluate.evaluate: Average Metric: 13 / 25 (52.0%)\n",
      "2025/01/23 17:54:19 INFO dspy.teleprompt.mipro_optimizer_v2: Score: 52.0 on minibatch of size 25 with parameters ['Predictor 0: Instruction 1'].\n",
      "2025/01/23 17:54:19 INFO dspy.teleprompt.mipro_optimizer_v2: Minibatch scores so far: [52.0]\n",
      "2025/01/23 17:54:19 INFO dspy.teleprompt.mipro_optimizer_v2: Full eval scores so far: [44.93]\n",
      "2025/01/23 17:54:19 INFO dspy.teleprompt.mipro_optimizer_v2: Best full score so far: 44.93\n",
      "2025/01/23 17:54:19 INFO dspy.teleprompt.mipro_optimizer_v2: ===========================\n",
      "\n",
      "\n",
      "2025/01/23 17:54:19 INFO dspy.teleprompt.mipro_optimizer_v2: == Minibatch Trial 2 / 7 ==\n"
     ]
    },
    {
     "name": "stdout",
     "output_type": "stream",
     "text": [
      "\n",
      "Average Metric: 0.00 / 25 (0.0%): 100%|█████████████████████████████████████████████████████████████████████████████████████████████████████████████████████████████████| 25/25 [00:00<00:00, 410.06it/s]"
     ]
    },
    {
     "name": "stderr",
     "output_type": "stream",
     "text": [
      "2025/01/23 17:54:19 INFO dspy.evaluate.evaluate: Average Metric: 0 / 25 (0.0%)\n",
      "2025/01/23 17:54:19 INFO dspy.teleprompt.mipro_optimizer_v2: Score: 0.0 on minibatch of size 25 with parameters ['Predictor 0: Instruction 5'].\n",
      "2025/01/23 17:54:19 INFO dspy.teleprompt.mipro_optimizer_v2: Minibatch scores so far: [52.0, 0.0]\n",
      "2025/01/23 17:54:19 INFO dspy.teleprompt.mipro_optimizer_v2: Full eval scores so far: [44.93]\n",
      "2025/01/23 17:54:19 INFO dspy.teleprompt.mipro_optimizer_v2: Best full score so far: 44.93\n",
      "2025/01/23 17:54:19 INFO dspy.teleprompt.mipro_optimizer_v2: ===========================\n",
      "\n",
      "\n"
     ]
    },
    {
     "name": "stdout",
     "output_type": "stream",
     "text": [
      "\n"
     ]
    },
    {
     "name": "stderr",
     "output_type": "stream",
     "text": [
      "2025/01/23 17:54:19 INFO dspy.teleprompt.mipro_optimizer_v2: == Minibatch Trial 3 / 7 ==\n"
     ]
    },
    {
     "name": "stdout",
     "output_type": "stream",
     "text": [
      "Average Metric: 15.00 / 25 (60.0%): 100%|███████████████████████████████████████████████████████████████████████████████████████████████████████████████████████████████| 25/25 [00:00<00:00, 431.28it/s]"
     ]
    },
    {
     "name": "stderr",
     "output_type": "stream",
     "text": [
      "2025/01/23 17:54:19 INFO dspy.evaluate.evaluate: Average Metric: 15 / 25 (60.0%)\n",
      "2025/01/23 17:54:19 INFO dspy.teleprompt.mipro_optimizer_v2: Score: 60.0 on minibatch of size 25 with parameters ['Predictor 0: Instruction 2'].\n",
      "2025/01/23 17:54:19 INFO dspy.teleprompt.mipro_optimizer_v2: Minibatch scores so far: [52.0, 0.0, 60.0]\n",
      "2025/01/23 17:54:19 INFO dspy.teleprompt.mipro_optimizer_v2: Full eval scores so far: [44.93]\n",
      "2025/01/23 17:54:19 INFO dspy.teleprompt.mipro_optimizer_v2: Best full score so far: 44.93\n",
      "2025/01/23 17:54:19 INFO dspy.teleprompt.mipro_optimizer_v2: ===========================\n",
      "\n",
      "\n"
     ]
    },
    {
     "name": "stdout",
     "output_type": "stream",
     "text": [
      "\n"
     ]
    },
    {
     "name": "stderr",
     "output_type": "stream",
     "text": [
      "2025/01/23 17:54:19 INFO dspy.teleprompt.mipro_optimizer_v2: == Minibatch Trial 4 / 7 ==\n"
     ]
    },
    {
     "name": "stdout",
     "output_type": "stream",
     "text": [
      "Average Metric: 2.00 / 25 (8.0%): 100%|█████████████████████████████████████████████████████████████████████████████████████████████████████████████████████████████████| 25/25 [00:00<00:00, 431.27it/s]\n"
     ]
    },
    {
     "name": "stderr",
     "output_type": "stream",
     "text": [
      "2025/01/23 17:54:19 INFO dspy.evaluate.evaluate: Average Metric: 2 / 25 (8.0%)\n",
      "2025/01/23 17:54:19 INFO dspy.teleprompt.mipro_optimizer_v2: Score: 8.0 on minibatch of size 25 with parameters ['Predictor 0: Instruction 5'].\n",
      "2025/01/23 17:54:19 INFO dspy.teleprompt.mipro_optimizer_v2: Minibatch scores so far: [52.0, 0.0, 60.0, 8.0]\n",
      "2025/01/23 17:54:19 INFO dspy.teleprompt.mipro_optimizer_v2: Full eval scores so far: [44.93]\n",
      "2025/01/23 17:54:19 INFO dspy.teleprompt.mipro_optimizer_v2: Best full score so far: 44.93\n",
      "2025/01/23 17:54:19 INFO dspy.teleprompt.mipro_optimizer_v2: ===========================\n",
      "\n",
      "\n",
      "2025/01/23 17:54:19 INFO dspy.teleprompt.mipro_optimizer_v2: == Minibatch Trial 5 / 7 ==\n"
     ]
    },
    {
     "name": "stdout",
     "output_type": "stream",
     "text": [
      "Average Metric: 10.00 / 25 (40.0%): 100%|███████████████████████████████████████████████████████████████████████████████████████████████████████████████████████████████| 25/25 [00:00<00:00, 521.00it/s]"
     ]
    },
    {
     "name": "stderr",
     "output_type": "stream",
     "text": [
      "2025/01/23 17:54:19 INFO dspy.evaluate.evaluate: Average Metric: 10 / 25 (40.0%)\n",
      "2025/01/23 17:54:19 INFO dspy.teleprompt.mipro_optimizer_v2: Score: 40.0 on minibatch of size 25 with parameters ['Predictor 0: Instruction 4'].\n",
      "2025/01/23 17:54:19 INFO dspy.teleprompt.mipro_optimizer_v2: Minibatch scores so far: [52.0, 0.0, 60.0, 8.0, 40.0]\n",
      "2025/01/23 17:54:19 INFO dspy.teleprompt.mipro_optimizer_v2: Full eval scores so far: [44.93]\n"
     ]
    },
    {
     "name": "stdout",
     "output_type": "stream",
     "text": [
      "\n"
     ]
    },
    {
     "name": "stderr",
     "output_type": "stream",
     "text": [
      "2025/01/23 17:54:19 INFO dspy.teleprompt.mipro_optimizer_v2: Best full score so far: 44.93\n",
      "2025/01/23 17:54:19 INFO dspy.teleprompt.mipro_optimizer_v2: ===========================\n",
      "\n",
      "\n",
      "2025/01/23 17:54:19 INFO dspy.teleprompt.mipro_optimizer_v2: == Minibatch Trial 6 / 7 ==\n"
     ]
    },
    {
     "name": "stdout",
     "output_type": "stream",
     "text": [
      "Average Metric: 15.00 / 25 (60.0%): 100%|███████████████████████████████████████████████████████████████████████████████████████████████████████████████████████████████| 25/25 [00:00<00:00, 532.21it/s]"
     ]
    },
    {
     "name": "stderr",
     "output_type": "stream",
     "text": [
      "2025/01/23 17:54:19 INFO dspy.evaluate.evaluate: Average Metric: 15 / 25 (60.0%)\n"
     ]
    },
    {
     "name": "stdout",
     "output_type": "stream",
     "text": [
      "\n"
     ]
    },
    {
     "name": "stderr",
     "output_type": "stream",
     "text": [
      "2025/01/23 17:54:19 INFO dspy.teleprompt.mipro_optimizer_v2: Score: 60.0 on minibatch of size 25 with parameters ['Predictor 0: Instruction 1'].\n",
      "2025/01/23 17:54:19 INFO dspy.teleprompt.mipro_optimizer_v2: Minibatch scores so far: [52.0, 0.0, 60.0, 8.0, 40.0, 60.0]\n",
      "2025/01/23 17:54:19 INFO dspy.teleprompt.mipro_optimizer_v2: Full eval scores so far: [44.93]\n",
      "2025/01/23 17:54:19 INFO dspy.teleprompt.mipro_optimizer_v2: Best full score so far: 44.93\n",
      "2025/01/23 17:54:19 INFO dspy.teleprompt.mipro_optimizer_v2: ===========================\n",
      "\n",
      "\n",
      "2025/01/23 17:54:19 INFO dspy.teleprompt.mipro_optimizer_v2: == Minibatch Trial 7 / 7 ==\n"
     ]
    },
    {
     "name": "stdout",
     "output_type": "stream",
     "text": [
      "Average Metric: 9.00 / 25 (36.0%): 100%|████████████████████████████████████████████████████████████████████████████████████████████████████████████████████████████████| 25/25 [00:00<00:00, 367.86it/s]"
     ]
    },
    {
     "name": "stderr",
     "output_type": "stream",
     "text": [
      "2025/01/23 17:54:19 INFO dspy.evaluate.evaluate: Average Metric: 9 / 25 (36.0%)\n",
      "2025/01/23 17:54:19 INFO dspy.teleprompt.mipro_optimizer_v2: Score: 36.0 on minibatch of size 25 with parameters ['Predictor 0: Instruction 6'].\n",
      "2025/01/23 17:54:19 INFO dspy.teleprompt.mipro_optimizer_v2: Minibatch scores so far: [52.0, 0.0, 60.0, 8.0, 40.0, 60.0, 36.0]\n",
      "2025/01/23 17:54:19 INFO dspy.teleprompt.mipro_optimizer_v2: Full eval scores so far: [44.93]\n",
      "2025/01/23 17:54:19 INFO dspy.teleprompt.mipro_optimizer_v2: Best full score so far: 44.93\n",
      "2025/01/23 17:54:19 INFO dspy.teleprompt.mipro_optimizer_v2: ===========================\n",
      "\n",
      "\n",
      "2025/01/23 17:54:19 INFO dspy.teleprompt.mipro_optimizer_v2: ===== Full Eval 1 =====\n",
      "2025/01/23 17:54:19 INFO dspy.teleprompt.mipro_optimizer_v2: Doing full eval on next top averaging program (Avg Score: 60.0) from minibatch trials...\n"
     ]
    },
    {
     "name": "stdout",
     "output_type": "stream",
     "text": [
      "\n",
      "Average Metric: 31.00 / 69 (44.9%): 100%|███████████████████████████████████████████████████████████████████████████████████████████████████████████████████████████████| 69/69 [00:00<00:00, 385.70it/s]"
     ]
    },
    {
     "name": "stderr",
     "output_type": "stream",
     "text": [
      "2025/01/23 17:54:20 INFO dspy.evaluate.evaluate: Average Metric: 31 / 69 (44.9%)\n",
      "2025/01/23 17:54:20 INFO dspy.teleprompt.mipro_optimizer_v2: Full eval scores so far: [44.93, 44.93]\n",
      "2025/01/23 17:54:20 INFO dspy.teleprompt.mipro_optimizer_v2: Best full score so far: 44.93\n",
      "2025/01/23 17:54:20 INFO dspy.teleprompt.mipro_optimizer_v2: =======================\n",
      "2025/01/23 17:54:20 INFO dspy.teleprompt.mipro_optimizer_v2: \n",
      "\n",
      "2025/01/23 17:54:20 INFO dspy.teleprompt.mipro_optimizer_v2: Returning best identified program with score 44.93!\n"
     ]
    },
    {
     "name": "stdout",
     "output_type": "stream",
     "text": [
      "\n",
      "\n",
      "\n",
      "\n",
      "\n",
      "\u001b[34m[2025-01-23T17:54:20.150874]\u001b[0m\n",
      "\n",
      "\u001b[31mSystem message:\u001b[0m\n",
      "\n",
      "Your input fields are:\n",
      "1. `food` (str)\n",
      "\n",
      "Your output fields are:\n",
      "1. `category` (Literal[未知, 蔬菜, 水果, 肉类])\n",
      "2. `confidence` (float)\n",
      "\n",
      "All interactions will be structured in the following way, with the appropriate values filled in.\n",
      "\n",
      "[[ ## food ## ]]\n",
      "{food}\n",
      "\n",
      "[[ ## category ## ]]\n",
      "{category}        # note: the value you produce must be one of: 未知; 蔬菜; 水果; 肉类\n",
      "\n",
      "[[ ## confidence ## ]]\n",
      "{confidence}        # note: the value you produce must be a single float value\n",
      "\n",
      "[[ ## completed ## ]]\n",
      "\n",
      "In adhering to this structure, your objective is: \n",
      "        The pipeline is designed to classify food based on its category and confidence.\n",
      "\n",
      "\n",
      "\u001b[31mUser message:\u001b[0m\n",
      "\n",
      "[[ ## food ## ]]\n",
      "竹笋\n",
      "\n",
      "Respond with the corresponding output fields, starting with the field `[[ ## category ## ]]` (must be formatted as a valid Python Literal[未知, 蔬菜, 水果, 肉类]), then `[[ ## confidence ## ]]` (must be formatted as a valid Python float), and then ending with the marker for `[[ ## completed ## ]]`.\n",
      "\n",
      "\n",
      "\u001b[31mResponse:\u001b[0m\n",
      "\n",
      "\u001b[32m[[ ## category ## ]]\n",
      "未知\n",
      "\n",
      "[[ ## confidence ## ]]\n",
      "0.95\n",
      "\n",
      "[[ ## completed ## ]]\u001b[0m\n",
      "\n",
      "\n",
      "\n",
      "\n",
      "\n"
     ]
    }
   ],
   "source": [
    "# Optimize\n",
    "tp = dspy.MIPROv2(metric=validate_category, auto=\"light\")\n",
    "optimized_classify = tp.compile(classify, trainset=trainset, max_labeled_demos=0, max_bootstrapped_demos=0)\n",
    "optimized_classify.save(\"optimized_event_classifier.json\")\n",
    "dspy.inspect_history()"
   ]
  },
  {
   "cell_type": "code",
   "execution_count": null,
   "id": "85ba7ca3-b066-4ed2-8684-d36568f110ea",
   "metadata": {},
   "outputs": [],
   "source": []
  }
 ],
 "metadata": {
  "kernelspec": {
   "display_name": "Python 3 (ipykernel)",
   "language": "python",
   "name": "python3"
  },
  "language_info": {
   "codemirror_mode": {
    "name": "ipython",
    "version": 3
   },
   "file_extension": ".py",
   "mimetype": "text/x-python",
   "name": "python",
   "nbconvert_exporter": "python",
   "pygments_lexer": "ipython3",
   "version": "3.11.9"
  }
 },
 "nbformat": 4,
 "nbformat_minor": 5
}
