{
 "cells": [
  {
   "cell_type": "markdown",
   "id": "a9cdcfe5-dbed-4833-b65c-be1a27ea4e6d",
   "metadata": {},
   "source": [
    "# DSPy 连接 Ollama\n",
    "Ollama 是一个在本地部署和运行大语言模型的工具，此处不做过多介绍。"
   ]
  },
  {
   "cell_type": "code",
   "execution_count": 1,
   "id": "4e8ed499-768b-401d-8fad-c584c8173bf9",
   "metadata": {},
   "outputs": [],
   "source": [
    "# 导入 dspy 包\n",
    "import dspy"
   ]
  },
  {
   "cell_type": "raw",
   "id": "b83f6950-ce41-455d-b5ab-793567600467",
   "metadata": {},
   "source": [
    "定义 LM\n",
    "api_base 指定 Ollama 服务地址\n",
    "api_key 可不填\n",
    "qwen2.5:0.5b 是 Ollama 中运行的模型名称"
   ]
  },
  {
   "cell_type": "code",
   "execution_count": 2,
   "id": "c11e519c-dd3b-4724-a362-2f2d39dd61fc",
   "metadata": {},
   "outputs": [],
   "source": [
    "lm = dspy.LM('ollama_chat/qwen2.5:0.5b', api_base='http://localhost:11434', api_key='')"
   ]
  },
  {
   "cell_type": "code",
   "execution_count": 3,
   "id": "dea8c525-c4a8-41cb-ba1c-886cedb4b84e",
   "metadata": {},
   "outputs": [],
   "source": [
    "# 指定 dspy 的 LM\n",
    "dspy.configure(lm=lm)"
   ]
  }
 ],
 "metadata": {
  "kernelspec": {
   "display_name": "Python 3 (ipykernel)",
   "language": "python",
   "name": "python3"
  },
  "language_info": {
   "codemirror_mode": {
    "name": "ipython",
    "version": 3
   },
   "file_extension": ".py",
   "mimetype": "text/x-python",
   "name": "python",
   "nbconvert_exporter": "python",
   "pygments_lexer": "ipython3",
   "version": "3.11.9"
  }
 },
 "nbformat": 4,
 "nbformat_minor": 5
}
