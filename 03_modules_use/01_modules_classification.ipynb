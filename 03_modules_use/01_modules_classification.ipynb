{
 "cells": [
  {
   "cell_type": "markdown",
   "id": "90bf5ed7-e63d-4c53-ae8b-f699e5226040",
   "metadata": {},
   "source": [
    "# 分类任务示例"
   ]
  },
  {
   "cell_type": "markdown",
   "id": "6c58d51e-2eb9-4c88-9beb-e5b094f841d7",
   "metadata": {},
   "source": [
    "### 配置语言模型"
   ]
  },
  {
   "cell_type": "code",
   "execution_count": 8,
   "id": "5c7366dd-1694-43a7-8d25-0e1efa385d2c",
   "metadata": {},
   "outputs": [],
   "source": [
    "import dspy\n",
    "\n",
    "lm = dspy.LM('ollama_chat/qwen2.5:0.5b', api_base='http://localhost:11434', api_key='', cache=False)\n",
    "dspy.configure(lm=lm)"
   ]
  },
  {
   "cell_type": "markdown",
   "id": "e0f10cc9-e143-4247-ab55-87029c19b984",
   "metadata": {},
   "source": [
    "### 定义签名"
   ]
  },
  {
   "cell_type": "code",
   "execution_count": 12,
   "id": "24185a62-4683-47c3-9cf0-d2af8f2b4492",
   "metadata": {},
   "outputs": [],
   "source": [
    "from typing import Literal\n",
    "\n",
    "class Classify(dspy.Signature):\n",
    "    \"\"\"对给定的句子进行情感分类\"\"\"\n",
    "    sentence: str = dspy.InputField()\n",
    "    sentiment: Literal[\"正面\", \"负面\", \"中立\"] = dspy.OutputField()\n",
    "    confidence: float = dspy.OutputField()"
   ]
  },
  {
   "cell_type": "markdown",
   "id": "ddec460f-ce24-4e9b-9bca-a5ab8c85e58a",
   "metadata": {},
   "source": [
    "#### 使用 DSPy Predict 模块"
   ]
  },
  {
   "cell_type": "code",
   "execution_count": 13,
   "id": "77923245-4322-44b8-9f2e-9a5dbce237a6",
   "metadata": {},
   "outputs": [],
   "source": [
    "classify = dspy.Predict(Classify)"
   ]
  },
  {
   "cell_type": "markdown",
   "id": "d996a386-2548-4a09-a74b-cf02cb196b43",
   "metadata": {},
   "source": [
    "### 执行分类"
   ]
  },
  {
   "cell_type": "code",
   "execution_count": 14,
   "id": "2fd5677d-da64-4fab-9a01-d3d9f24786f3",
   "metadata": {},
   "outputs": [
    {
     "data": {
      "text/plain": [
       "Prediction(\n",
       "    sentiment='正面',\n",
       "    confidence=0.95\n",
       ")"
      ]
     },
     "execution_count": 14,
     "metadata": {},
     "output_type": "execute_result"
    }
   ],
   "source": [
    "response = classify(sentence=\"这门课程非常棒\")\n",
    "response"
   ]
  },
  {
   "cell_type": "code",
   "execution_count": null,
   "id": "bace4b7d-813d-46e7-8aa7-916dd1e32096",
   "metadata": {},
   "outputs": [],
   "source": []
  }
 ],
 "metadata": {
  "kernelspec": {
   "display_name": "Python 3 (ipykernel)",
   "language": "python",
   "name": "python3"
  },
  "language_info": {
   "codemirror_mode": {
    "name": "ipython",
    "version": 3
   },
   "file_extension": ".py",
   "mimetype": "text/x-python",
   "name": "python",
   "nbconvert_exporter": "python",
   "pygments_lexer": "ipython3",
   "version": "3.11.9"
  }
 },
 "nbformat": 4,
 "nbformat_minor": 5
}
