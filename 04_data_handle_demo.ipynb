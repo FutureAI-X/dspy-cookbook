{
 "cells": [
  {
   "cell_type": "code",
   "execution_count": 2,
   "id": "2c56c462-0237-4311-9f99-012be5295aac",
   "metadata": {},
   "outputs": [],
   "source": [
    "# 导入 DSPy\n",
    "import dspy"
   ]
  },
  {
   "cell_type": "markdown",
   "id": "b526cbd8-030b-4931-af9e-79c3860509ff",
   "metadata": {},
   "source": [
    "## DSPy Example 简单示例"
   ]
  },
  {
   "cell_type": "code",
   "execution_count": 4,
   "id": "d454bb69-02f0-4bbf-aee0-e572e111a97d",
   "metadata": {},
   "outputs": [
    {
     "data": {
      "text/plain": [
       "(Example({'question': '问题', 'answer': 'This is answer'}) (input_keys=None),\n",
       " '问题',\n",
       " 'This is answer')"
      ]
     },
     "execution_count": 4,
     "metadata": {},
     "output_type": "execute_result"
    }
   ],
   "source": [
    "# 创建一个 DSPy Example 对象\n",
    "# Key 可以是任意字符串，Value 可以是任何类型\n",
    "qa_pair = dspy.Example(question='问题', answer='This is answer')\n",
    "# 打印对象\n",
    "qa_pair, qa_pair.question, qa_pair.answer"
   ]
  },
  {
   "cell_type": "markdown",
   "id": "fb2a1d68-969e-4056-8e1a-b62cb6fd9981",
   "metadata": {},
   "source": [
    "## 指定输入键"
   ]
  },
  {
   "cell_type": "raw",
   "id": "aace32da-840c-4fcc-b0a1-a7fc6a936f8a",
   "metadata": {},
   "source": [
    "Example 对象有一个 with_inputs() 方法，可以标记特定字段为输入，其余字段都是元数据或标签"
   ]
  },
  {
   "cell_type": "code",
   "execution_count": 5,
   "id": "1fc53a99-ff2e-4146-bce1-2f831319b4af",
   "metadata": {},
   "outputs": [
    {
     "data": {
      "text/plain": [
       "Example({'question': '问题', 'answer': 'This is answer'}) (input_keys={'question'})"
      ]
     },
     "execution_count": 5,
     "metadata": {},
     "output_type": "execute_result"
    }
   ],
   "source": [
    "# 指定单个输入字段\n",
    "qa_pair.with_inputs('question')"
   ]
  },
  {
   "cell_type": "code",
   "execution_count": 11,
   "id": "4ecaa2ac-12c6-4825-b00c-e2275bb36180",
   "metadata": {},
   "outputs": [
    {
     "data": {
      "text/plain": [
       "Example({'question': '问题', 'answer': 'This is answer'}) (input_keys={'question', 'answer'})"
      ]
     },
     "execution_count": 11,
     "metadata": {},
     "output_type": "execute_result"
    }
   ],
   "source": [
    "# 指定单个输入字段\n",
    "qa_pair.with_inputs('question','answer')"
   ]
  },
  {
   "cell_type": "code",
   "execution_count": 14,
   "id": "45e7c147-a090-479f-9b5d-bff54deeeb41",
   "metadata": {},
   "outputs": [
    {
     "data": {
      "text/plain": [
       "Example({'question': '问题'}) (input_keys={'question'})"
      ]
     },
     "execution_count": 14,
     "metadata": {},
     "output_type": "execute_result"
    }
   ],
   "source": [
    "# 使用 input() 方法获取仅包含输入字段的 Example对象\n",
    "qa_pair_with_input = qa_pair.with_inputs('question')\n",
    "qa_pair_with_input.inputs()"
   ]
  },
  {
   "cell_type": "code",
   "execution_count": 15,
   "id": "6caa35d1-bc73-4636-8100-eddc99d627c8",
   "metadata": {},
   "outputs": [
    {
     "data": {
      "text/plain": [
       "Example({'answer': 'This is answer'}) (input_keys=None)"
      ]
     },
     "execution_count": 15,
     "metadata": {},
     "output_type": "execute_result"
    }
   ],
   "source": [
    "# 使用 labels() 方法获取仅包含非输入字段的 Example对象\n",
    "qa_pair_with_input.labels()"
   ]
  },
  {
   "cell_type": "code",
   "execution_count": null,
   "id": "de6fc659-e2ec-4b3a-90cc-4a0bc57ae9b2",
   "metadata": {},
   "outputs": [],
   "source": []
  }
 ],
 "metadata": {
  "kernelspec": {
   "display_name": "Python 3 (ipykernel)",
   "language": "python",
   "name": "python3"
  },
  "language_info": {
   "codemirror_mode": {
    "name": "ipython",
    "version": 3
   },
   "file_extension": ".py",
   "mimetype": "text/x-python",
   "name": "python",
   "nbconvert_exporter": "python",
   "pygments_lexer": "ipython3",
   "version": "3.11.9"
  }
 },
 "nbformat": 4,
 "nbformat_minor": 5
}
