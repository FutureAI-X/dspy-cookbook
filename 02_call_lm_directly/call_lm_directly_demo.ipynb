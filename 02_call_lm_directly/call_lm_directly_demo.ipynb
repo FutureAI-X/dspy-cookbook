{
 "cells": [
  {
   "cell_type": "markdown",
   "id": "d4bb10a1-4e39-4add-9ed2-6c63583c59b6",
   "metadata": {},
   "source": [
    "### 配置语言模型"
   ]
  },
  {
   "cell_type": "code",
   "execution_count": 1,
   "id": "9deb3f5c-13ad-4012-bd5a-d616f17c67e2",
   "metadata": {},
   "outputs": [],
   "source": [
    "import dspy\n",
    "\n",
    "lm = dspy.LM('ollama_chat/qwen2.5:0.5b', api_base='http://localhost:11434', api_key='')\n",
    "dspy.configure(lm=lm)"
   ]
  },
  {
   "cell_type": "markdown",
   "id": "e82f7349-cf66-4561-83c8-449fc6646cfc",
   "metadata": {},
   "source": [
    "### 生成模式"
   ]
  },
  {
   "cell_type": "code",
   "execution_count": 14,
   "id": "b1a4e44f-6948-480c-8370-9a1e7262dd04",
   "metadata": {},
   "outputs": [
    {
     "data": {
      "text/plain": [
       "['我是来自阿里巴巴集团的AI助手，名叫通义千问。我被设计用来提供信息、回答问题以及进行对话。通过与人类用户的交互，我可以帮助解答各种问题，提供有用的知识和建议，甚至参与简单的讨论。我的目标是尽可能地满足用户的需求，并在需要时提供帮助和支持。']"
      ]
     },
     "execution_count": 14,
     "metadata": {},
     "output_type": "execute_result"
    }
   ],
   "source": [
    "response1 = lm(\"你是谁\", temperature=0.7, cache=False)\n",
    "response1"
   ]
  },
  {
   "cell_type": "markdown",
   "id": "e6a1b1fe-27de-4532-a76e-85d30e20cea4",
   "metadata": {},
   "source": [
    "### 对话模式"
   ]
  },
  {
   "cell_type": "code",
   "execution_count": 18,
   "id": "b5ec6ab0-b933-445a-9aa5-12c0044b3c2c",
   "metadata": {},
   "outputs": [
    {
     "data": {
      "text/plain": [
       "['我是来自阿里云的超大规模语言模型，我叫通义千问。']"
      ]
     },
     "execution_count": 18,
     "metadata": {},
     "output_type": "execute_result"
    }
   ],
   "source": [
    "response2 = lm(messages=[{\"role\": \"user\", \"content\": \"你是谁\"}], cache=True)\n",
    "response2"
   ]
  }
 ],
 "metadata": {
  "kernelspec": {
   "display_name": "Python 3 (ipykernel)",
   "language": "python",
   "name": "python3"
  },
  "language_info": {
   "codemirror_mode": {
    "name": "ipython",
    "version": 3
   },
   "file_extension": ".py",
   "mimetype": "text/x-python",
   "name": "python",
   "nbconvert_exporter": "python",
   "pygments_lexer": "ipython3",
   "version": "3.11.9"
  }
 },
 "nbformat": 4,
 "nbformat_minor": 5
}
