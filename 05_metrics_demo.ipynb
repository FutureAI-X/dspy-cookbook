{
 "cells": [
  {
   "cell_type": "markdown",
   "id": "9bf8516e-fc05-47e7-9407-c810725831a8",
   "metadata": {},
   "source": [
    "## Metric(度量) 是什么\n",
    "在机器学习领域，一个度量指标就是一个函数，将原始数据中期望的输出与系统实际的输出做比较，并返回一个分数，以量化输出质量。\n",
    "\n",
    "对于简单任务，诸如简单的分类或短文本问答任务，可能知识“准确率”、“精确匹配”或“F1分数”。\n",
    "\n",
    "但对于大多数应用，系统的输出可能会比较长，指标更可能是一个 DSPy 程序，该程序检查输出的多个属性（很可能是使用 LLM 的 AI 反馈）。"
   ]
  },
  {
   "cell_type": "markdown",
   "id": "32cc4e66-22d9-4121-a6a2-e8b301a51896",
   "metadata": {},
   "source": [
    "## 简单指标\n",
    "DSPy 指标只是一个 Python 函数，它接受的输入如下：\n",
    "- example：案例数据，来自训练集或开发集\n",
    "- pred：DSPy 程序输出的结果\n",
    "- trace：可选参数，如果想将指标用于优化，它会提供一些技巧\n",
    "\n",
    "它的输出是一个得分（支持 float、int、bool 三种形式）。\n",
    "\n",
    "下面是一个比较 example.answer 和 pred.answer 的指标简单示例，它将返回一个 bool"
   ]
  },
  {
   "cell_type": "code",
   "execution_count": 4,
   "id": "45480f96-67f0-4110-a477-edbddd5a9b14",
   "metadata": {},
   "outputs": [
    {
     "data": {
      "text/plain": [
       "False"
      ]
     },
     "execution_count": 4,
     "metadata": {},
     "output_type": "execute_result"
    }
   ],
   "source": [
    "import dspy\n",
    "\n",
    "def validate_answer(example, pred, trace = None):\n",
    "    return example.answer.lower() == pred.answer.lower()\n",
    "\n",
    "example = dspy.Example(question='This is question', answer='This is answer')\n",
    "pred = dspy.Example(question='This is question', answer='This is answer')\n",
    "\n",
    "validate_answer(example, pred)"
   ]
  },
  {
   "cell_type": "code",
   "execution_count": null,
   "id": "42580196-aa35-4e02-8e00-ae2e6a20ba48",
   "metadata": {},
   "outputs": [],
   "source": []
  }
 ],
 "metadata": {
  "kernelspec": {
   "display_name": "Python 3 (ipykernel)",
   "language": "python",
   "name": "python3"
  },
  "language_info": {
   "codemirror_mode": {
    "name": "ipython",
    "version": 3
   },
   "file_extension": ".py",
   "mimetype": "text/x-python",
   "name": "python",
   "nbconvert_exporter": "python",
   "pygments_lexer": "ipython3",
   "version": "3.11.9"
  }
 },
 "nbformat": 4,
 "nbformat_minor": 5
}
